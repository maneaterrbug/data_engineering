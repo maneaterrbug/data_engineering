{
 "cells": [
  {
   "cell_type": "code",
   "execution_count": 41,
   "id": "4f1d8032",
   "metadata": {},
   "outputs": [],
   "source": [
    "import pandas as pd\n",
    "import numpy as np\n",
    "from collections import Counter\n",
    "\n",
    "import pyspark\n",
    "from pyspark.sql.types import StructType,StructField, StringType, IntegerType\n",
    "\n",
    "from riotwatcher import LolWatcher, ApiError\n",
    "import psycopg2\n",
    "\n",
    "import torch\n",
    "import torch.nn as nn\n",
    "from torch.utils.data import Dataset, DataLoader\n",
    "import pytorch_lightning as pl"
   ]
  },
  {
   "cell_type": "code",
   "execution_count": 14,
   "id": "10d6d005",
   "metadata": {},
   "outputs": [],
   "source": [
    "# !pip install pyspark"
   ]
  },
  {
   "cell_type": "code",
   "execution_count": 2,
   "id": "0bd30272",
   "metadata": {},
   "outputs": [],
   "source": [
    "#!pip install psycopg2\n",
    "conn = psycopg2.connect(\n",
    "                 dbname = 'postgres', \n",
    "                 user = 'dbuser', \n",
    "                 password = 'dbpassword',\n",
    "                 host = '35.193.195.58',\n",
    "                 port = '5432', \n",
    "                 sslmode = 'require',\n",
    "                 sslrootcert='../data/ssl/server-ca.pem',\n",
    "                 sslcert ='../data/ssl/client-cert.pem' ,\n",
    "                 sslkey = '../data/ssl/client-key.pem'\n",
    "                )"
   ]
  },
  {
   "cell_type": "code",
   "execution_count": 4,
   "id": "d206c7e2",
   "metadata": {},
   "outputs": [],
   "source": [
    "with conn.cursor() as cur:\n",
    "    conn.autocommit = True\n",
    "    cur.execute(\"CREATE TABLE summ_champ (\"\n",
    "                   \"recId integer CONSTRAINT firstkey PRIMARY KEY,\"\n",
    "                   \"summId integer NOT NULL,\" \n",
    "                   \"champId integer NOT NULL)\")\n",
    "#     cur.execute('DROP DATABASE league_data')\n"
   ]
  },
  {
   "cell_type": "code",
   "execution_count": null,
   "id": "2178e6d0",
   "metadata": {},
   "outputs": [],
   "source": [
    "# cursor.execute('INSERT INTO summ_champ (game_id, summ_id, champ_id)'\n",
    "#                'VALUES (1,2,3)')\n",
    "# connection.commit()"
   ]
  },
  {
   "cell_type": "markdown",
   "id": "12726715",
   "metadata": {},
   "source": [
    "# I. Riot API"
   ]
  },
  {
   "cell_type": "code",
   "execution_count": 16,
   "id": "32f99667",
   "metadata": {},
   "outputs": [],
   "source": [
    "key = 'RGAPI-0c01e301-d943-4ca0-abe0-4249ae163df4'"
   ]
  },
  {
   "cell_type": "markdown",
   "id": "f5489c99",
   "metadata": {},
   "source": [
    "## A. API Object Initialization"
   ]
  },
  {
   "cell_type": "code",
   "execution_count": 17,
   "id": "6e4c0f1d",
   "metadata": {},
   "outputs": [],
   "source": [
    "watcher = LolWatcher(key)\n",
    "rgn = 'na1'\n",
    "platf = 'americas'"
   ]
  },
  {
   "cell_type": "code",
   "execution_count": 29,
   "id": "f8578b7d",
   "metadata": {},
   "outputs": [
    {
     "name": "stdout",
     "output_type": "stream",
     "text": [
      "root\n",
      " |-- recId: string (nullable = false)\n",
      " |-- summId: string (nullable = false)\n",
      " |-- champId: integer (nullable = false)\n",
      "\n"
     ]
    }
   ],
   "source": [
    "spark = pyspark.sql.SparkSession.builder.getOrCreate()\n",
    "\n",
    "emptyRDD = spark.sparkContext.emptyRDD()\n",
    "schema = StructType([\n",
    "  StructField('recId', StringType(), False),\n",
    "  StructField('summId', StringType(), False),\n",
    "  StructField('champId', IntegerType(), False)\n",
    "  ])\n",
    "df = spark.createDataFrame(emptyRDD,schema)\n",
    "df.printSchema()"
   ]
  },
  {
   "cell_type": "code",
   "execution_count": 44,
   "id": "c40f9e49",
   "metadata": {},
   "outputs": [
    {
     "data": {
      "text/plain": [
       "<zip at 0x26ccbde1c40>"
      ]
     },
     "execution_count": 44,
     "metadata": {},
     "output_type": "execute_result"
    }
   ],
   "source": [
    "me = watcher.summoner.by_name(rgn, 'broswitbros')\n",
    "x,y,z = gen_matches(rgn, me['id'])\n",
    "zip(x,y,z)"
   ]
  },
  {
   "cell_type": "markdown",
   "id": "3a41f759",
   "metadata": {},
   "source": [
    "## B. Defining functions to make API calls"
   ]
  },
  {
   "cell_type": "code",
   "execution_count": 19,
   "id": "5ebeac99",
   "metadata": {
    "scrolled": false
   },
   "outputs": [],
   "source": [
    "def gen_matches(rgn, summoner_id, platf = 'americas',queue = 420, count = 20):\n",
    "\n",
    "    player = watcher.summoner.by_id(rgn, summoner_id)\n",
    "\n",
    "    matches = watcher.match.matchlist_by_puuid(region = platf, puuid = player['puuid'], queue = queue, count = count)\n",
    "\n",
    "    rec_ids, summ_ids, champions = [], [], []\n",
    "    for match in matches:\n",
    "        match_detail = watcher.match.by_id(platf, match)\n",
    "        #print(match_detail['info']['participants'])\n",
    "        for part in match_detail['info']['participants']:\n",
    "            #print(part)\n",
    "            if part['puuid'] == player['puuid']:\n",
    "                rec_ids.append(match+'_'+str(part['teamId'])+'_'+part['teamPosition'])\n",
    "                summ_ids.append(summoner_id)\n",
    "                champions.append(part['championId'])\n",
    "        #champions.append(match_detail['info']['participants']['championId'])\n",
    "\n",
    "    return [[i,j,k] for i,j,k in zip(rec_ids, summ_ids, champions)]"
   ]
  },
  {
   "cell_type": "code",
   "execution_count": 20,
   "id": "bf2d0bad",
   "metadata": {
    "scrolled": false
   },
   "outputs": [],
   "source": [
    "def gen_champ_table():\n",
    "    latest = watcher.data_dragon.versions_for_region(rgn)['n']['champion']\n",
    "    # Lets get some champions static information\n",
    "    champ_data = watcher.data_dragon.champions(latest, False, 'en_US')['data']\n",
    "    champ_list = [[i['key'],i['name']] for i in list(champ_data.values())]\n",
    "    return champ_list"
   ]
  },
  {
   "cell_type": "markdown",
   "id": "5922b406",
   "metadata": {
    "scrolled": true
   },
   "source": [
    "### B1. Retrieving list of all ranked players Masters-Challenger"
   ]
  },
  {
   "cell_type": "code",
   "execution_count": 49,
   "id": "6d7836de",
   "metadata": {
    "scrolled": true
   },
   "outputs": [],
   "source": [
    "chall = watcher.league.challenger_by_queue(rgn, 'RANKED_SOLO_5x5')\n",
    "gm = watcher.league.grandmaster_by_queue(rgn, 'RANKED_SOLO_5x5')\n",
    "mast = watcher.league.masters_by_queue(rgn, 'RANKED_SOLO_5x5')"
   ]
  },
  {
   "cell_type": "code",
   "execution_count": 63,
   "id": "a511fa71",
   "metadata": {},
   "outputs": [],
   "source": [
    "def update_summ_ids(tier):\n",
    "    summ_library = [[s['summonerId'],s['summonerName']] for s in tier['entries']]\n",
    "    return summ_library"
   ]
  },
  {
   "cell_type": "code",
   "execution_count": 96,
   "id": "4d682486",
   "metadata": {
    "scrolled": true
   },
   "outputs": [],
   "source": [
    "def load_player_champs(tier):\n",
    "    tier_matches = []\n",
    "    i = 1\n",
    "    for summoner in tier['entries']:\n",
    "        s = summoner['summonerId']     \n",
    "        tier_matches.extend(gen_matches(rgn, s, count = 50))\n",
    "        print(i, summoner['summonerName'])\n",
    "        i+=1\n",
    "    return tier_matches"
   ]
  },
  {
   "cell_type": "code",
   "execution_count": 97,
   "id": "972ea607",
   "metadata": {
    "scrolled": true
   },
   "outputs": [
    {
     "name": "stdout",
     "output_type": "stream",
     "text": [
      "1 Satoshi\n",
      "2 CYD NGU\n",
      "3 Tempos Time\n",
      "4 sadsdasdasf\n",
      "5 Outsmarted\n",
      "6 Sheiden2\n",
      "7 lamour de ma vié\n",
      "8 EvanRL\n",
      "9 Lyteskin\n",
      "10 wong diff\n",
      "11 Avano\n",
      "12 Diomarr\n",
      "13 Nzm\n",
      "14 WayneDwops\n",
      "15 Saico\n",
      "16 Sum\n",
      "17 Le Kachu\n",
      "18 concept x\n",
      "19 izuyui\n",
      "20 AllGirlsRTheSame\n",
      "21 KoKoNwoo\n",
      "22 metalhydra273\n",
      "23             Tçº \n",
      "24 Logia\n",
      "25 Qitong\n",
      "26 Kang Sae Byeok1\n",
      "27 Airflash\n",
      "28 SkyTec\n",
      "29 rovex\n",
      "30 DIG Spawn\n",
      "31 Ramòn\n",
      "32 Sophist Sage\n",
      "33 ibarakura\n",
      "34 Bejjj\n",
      "35 loljanan\n",
      "36 Wxx REB20201\n",
      "37 TempestLoveYuely\n",
      "38 wx mjm978244659\n",
      "39 Oronuke\n",
      "40 MONSTER CHAD GOD\n",
      "41 Juheon\n",
      "42 Blacc Massu\n",
      "43 eg jojo\n",
      "44 Lemur\n",
      "45 bard kitten\n",
      "46 Hakuho\n",
      "47 Anticípation\n",
      "48 Kennywalol1\n",
      "49 Fake smiIes\n",
      "50 Secret PIayer\n",
      "51 VX Najuehuo\n",
      "52 Breezyyy\n",
      "53 Ariendel\n",
      "54 liantiguaiwu\n",
      "55 Doublelift\n",
      "56 TailsJJ\n",
      "57 Jouzef\n",
      "58 TheRealPhilip\n",
      "59 winstxn\n",
      "60 DarbBarf\n",
      "61 Dragoon\n",
      "62 saving na\n",
      "63 Mei You Qing Xu\n",
      "64 wx NAtongtiandai\n",
      "65 Eric Wei\n",
      "66 Dark Wingdom\n",
      "67 Emprisonner\n",
      "68 Delicate Angel\n",
      "69 THE Jons\n",
      "70 SpazzAD\n",
      "71 waste it on me\n",
      "72 blonde dahyun\n",
      "73 Trevor26\n",
      "74 DeadGemini\n",
      "75 Pobelter\n",
      "76 jojopyun 16\n",
      "77 ULTRAMARATHON\n",
      "78 twtv itakute\n",
      "79 Shrimp Cpt\n",
      "80 I am Súnlight\n",
      "81 KiNG Nidhogg\n",
      "82 Gravebloom\n",
      "83 Johnsun123\n",
      "84 zhong guo5\n",
      "85 Copý\n",
      "86 Thresh\n",
      "87 Laserholic\n",
      "88 Ablazeolive\n",
      "89 Prototype white\n",
      "90 pizzaman007\n",
      "91 hehehehe x3\n",
      "92 neeko sex king\n",
      "93 Kelpo\n",
      "94 Vakin\n",
      "95 align my chakras\n",
      "96 Thë Çàtmínt\n",
      "97 Sword2\n",
      "98 EG SkyTec\n",
      "99 donbray11\n",
      "100 onlyzz\n",
      "101 Spirax\n",
      "102 TyChee\n",
      "103 ALHM 39\n",
      "104 Rienfleché\n",
      "105 KatEvolved\n",
      "106 CaptBear\n",
      "107 Mongolia Yuuji\n",
      "108 Burento\n",
      "109 Curas Rose\n",
      "110 Eclipse\n",
      "111 SRTTY VS AMERICA\n",
      "112 DAMIIMAD\n",
      "113 Ke Ie\n",
      "114 Cadu\n",
      "115 bye im gosu\n",
      "116 Snowy Steps\n",
      "117 Z Score\n",
      "118 douyin tony top\n",
      "119 Zud\n",
      "120 animegirl2007\n",
      "121 Stabsie\n",
      "122 Sheiden9\n",
      "123 Oh ill Nam\n",
      "124 GSDFQWASD\n",
      "125 WX Code0103\n",
      "126 TSM Eclipse\n",
      "127 raheen1\n",
      "128 Pure Kawaii\n",
      "129 KingOfAbeyance\n",
      "130 TwitchTv Jugttv\n",
      "131 dfgtredfg4\n",
      "132 Feather Daddy\n",
      "133 Le JunMa\n",
      "134 Laceration\n",
      "135 rainº\n",
      "136 A D\n",
      "137 no invade pls\n",
      "138 Yura1\n",
      "139 aknid\n",
      "140 TheShy 15\n",
      "141  Braıne\n",
      "142 Karhus\n",
      "143 tomeito\n",
      "144 Dhokla\n",
      "145 Asyc\n",
      "146 Buffing\n",
      "147 Blazze\n",
      "148 Sn1per1\n",
      "149 donbray1\n",
      "150 Queen IU\n",
      "151 Pseudo\n",
      "152 EU Red\n",
      "153 shxchi\n",
      "154 Karasmai v9 \n",
      "155 duoking1\n",
      "156 sauce DX\n",
      "157 Kazahana\n",
      "158 petitpois facher\n",
      "159 Kittisaur\n",
      "160 C9 Winsome Fan\n",
      "161 Deng It \n",
      "162 TL Yeon\n",
      "163 Zativert Vi\n",
      "164 KryRa\n",
      "165 Cupic\n",
      "166 Rënekton\n",
      "167 Detention\n",
      "168 LittleChimp\n",
      "169 Chaeha\n",
      "170 Dopamine Tracker\n",
      "171 Pinwinasio\n",
      "172 Djalal\n",
      "173 Augustine\n",
      "174 BoilThe0il\n",
      "175 ID ToT\n",
      "176 Sarcasm Orgasm\n",
      "177 insung\n",
      "178 mind is calm\n",
      "179  N L\n",
      "180 ANTHONY EVELYNN\n",
      "181 smooth1e\n",
      "182 Draven696969\n",
      "183 BussyEnjoyerr808\n",
      "184 Sheiden1\n",
      "185 Rowpit\n",
      "186 The Tank Man\n",
      "187 Strompest\n",
      "188 kaixinyidian\n",
      "189 MASSGAINER44\n",
      "190 Bury The Past\n",
      "191 1Maxim\n",
      "192 SHERN\n",
      "193 Good Boi\n",
      "194 PickleTuna\n",
      "195 Aiax\n",
      "196 Yue yun zhi feng\n",
      "197 NøticeMeSenpai\n",
      "198 gxnyu\n",
      "199 Kurfyou\n",
      "200 Daption\n",
      "201 Pockus\n",
      "202 Mimic v9\n",
      "203 Shupian\n",
      "204 Twitch BTangLoL\n",
      "205 MaIthaeI\n",
      "206 jamican banana\n",
      "207 Ran Out of Wit\n",
      "208 Seranok\n",
      "209 Yunwinter\n",
      "210 Nathan Ryan\n",
      "211 Twillie\n",
      "212 C9 Copy\n",
      "213 Kurose\n",
      "214 RHINOOOOOOOOOOOO\n",
      "215 Businessman47\n",
      "216 Revenge\n",
      "217 jjkinggg\n",
      "218 quantumfan\n",
      "219 china\n",
      "220 ChuChuZ\n",
      "221 Swkeeee\n",
      "222 LeenK LCS\n",
      "223 Wekin Poof\n",
      "224 Shiba lnu\n",
      "225 Ethiridis\n",
      "226 Almighty\n",
      "227 Nikkone\n",
      "228 tenacityyy\n",
      "229 LowKeySavagé\n",
      "230 Wolzie\n",
      "231 Stiifo\n",
      "232 Matts Cat\n",
      "233 Frei44\n",
      "234 Eyla\n",
      "235 Arc en ciel\n",
      "236 MUSTACHEmanFIGHT\n",
      "237 Juice WrId\n",
      "238 EDG Daption\n",
      "239 Haruka Inokuma\n",
      "240 Matty\n",
      "241 Fishlord\n",
      "242 Fated Temper\n",
      "243 KryRa 16\n",
      "244 Allorim\n",
      "245 Busio JNG\n",
      "246 Minishcap1\n",
      "247 Messages\n",
      "248 LegitKorea\n",
      "249 qufl\n",
      "250 Blitz\n",
      "251 ßazz B\n",
      "252 tibs2\n",
      "253 Kitzuo\n",
      "254 YNO BLITZ\n",
      "255 Alyri OnlyFans\n",
      "256 TEMP 27236133\n",
      "257 100 Kenvi\n",
      "258 perryjg\n",
      "259 LOST TO KAT XD\n",
      "260 TwitchTv Sheiden\n",
      "261 آدم\n",
      "262 Pocket Rhinooooo\n",
      "263 Sayhoon\n",
      "264 this is sup chai\n",
      "265 Thats Not Fervor\n",
      "266 Neøø\n",
      "267 KEITHMCGRIEF\n",
      "268 5tunt\n",
      "269 ControlMageEGirl\n",
      "270 Kryzlx\n",
      "271 Davemon\n",
      "272 Fear\n",
      "273 TL Armao\n",
      "274 karasuno setter\n",
      "275 Zyko\n",
      "276 Cozy Shroud\n",
      "277 Zeyzal69\n",
      "278 TFBlade2\n",
      "279 DARK WlNGS\n",
      "280 Busio3\n",
      "281 lose\n",
      "282 insanityxd\n",
      "283 aiai panxi\n",
      "284 A5PECT\n",
      "285 TwTv PickleVayne\n",
      "286 sai desu\n",
      "287 Fiction\n",
      "288 poome1\n",
      "289 Scenari0\n",
      "290 Berik\n",
      "291 RexRequired\n",
      "292 Contrail\n",
      "293 the crangler\n",
      "294 Shogo2\n",
      "295 Avers\n",
      "296 RoseThorn\n",
      "297 700kg grandma\n",
      "298 Ynuaj\n",
      "299 Pentaless1 TTV\n",
      "300 Guess da number\n"
     ]
    }
   ],
   "source": [
    "records  = load_player_champs(chall)"
   ]
  },
  {
   "cell_type": "code",
   "execution_count": 94,
   "id": "7a8b6f5f",
   "metadata": {},
   "outputs": [
    {
     "data": {
      "text/plain": [
       "[['266', 'Aatrox'],\n",
       " ['103', 'Ahri'],\n",
       " ['84', 'Akali'],\n",
       " ['166', 'Akshan'],\n",
       " ['12', 'Alistar'],\n",
       " ['32', 'Amumu'],\n",
       " ['34', 'Anivia'],\n",
       " ['1', 'Annie'],\n",
       " ['523', 'Aphelios'],\n",
       " ['22', 'Ashe'],\n",
       " ['136', 'Aurelion Sol'],\n",
       " ['268', 'Azir'],\n",
       " ['432', 'Bard'],\n",
       " ['53', 'Blitzcrank'],\n",
       " ['63', 'Brand'],\n",
       " ['201', 'Braum'],\n",
       " ['51', 'Caitlyn'],\n",
       " ['164', 'Camille'],\n",
       " ['69', 'Cassiopeia'],\n",
       " ['31', \"Cho'Gath\"],\n",
       " ['42', 'Corki'],\n",
       " ['122', 'Darius'],\n",
       " ['131', 'Diana'],\n",
       " ['119', 'Draven'],\n",
       " ['36', 'Dr. Mundo'],\n",
       " ['245', 'Ekko'],\n",
       " ['60', 'Elise'],\n",
       " ['28', 'Evelynn'],\n",
       " ['81', 'Ezreal'],\n",
       " ['9', 'Fiddlesticks'],\n",
       " ['114', 'Fiora'],\n",
       " ['105', 'Fizz'],\n",
       " ['3', 'Galio'],\n",
       " ['41', 'Gangplank'],\n",
       " ['86', 'Garen'],\n",
       " ['150', 'Gnar'],\n",
       " ['79', 'Gragas'],\n",
       " ['104', 'Graves'],\n",
       " ['887', 'Gwen'],\n",
       " ['120', 'Hecarim'],\n",
       " ['74', 'Heimerdinger'],\n",
       " ['420', 'Illaoi'],\n",
       " ['39', 'Irelia'],\n",
       " ['427', 'Ivern'],\n",
       " ['40', 'Janna'],\n",
       " ['59', 'Jarvan IV'],\n",
       " ['24', 'Jax'],\n",
       " ['126', 'Jayce'],\n",
       " ['202', 'Jhin'],\n",
       " ['222', 'Jinx'],\n",
       " ['145', \"Kai'Sa\"],\n",
       " ['429', 'Kalista'],\n",
       " ['43', 'Karma'],\n",
       " ['30', 'Karthus'],\n",
       " ['38', 'Kassadin'],\n",
       " ['55', 'Katarina'],\n",
       " ['10', 'Kayle'],\n",
       " ['141', 'Kayn'],\n",
       " ['85', 'Kennen'],\n",
       " ['121', \"Kha'Zix\"],\n",
       " ['203', 'Kindred'],\n",
       " ['240', 'Kled'],\n",
       " ['96', \"Kog'Maw\"],\n",
       " ['7', 'LeBlanc'],\n",
       " ['64', 'Lee Sin'],\n",
       " ['89', 'Leona'],\n",
       " ['876', 'Lillia'],\n",
       " ['127', 'Lissandra'],\n",
       " ['236', 'Lucian'],\n",
       " ['117', 'Lulu'],\n",
       " ['99', 'Lux'],\n",
       " ['54', 'Malphite'],\n",
       " ['90', 'Malzahar'],\n",
       " ['57', 'Maokai'],\n",
       " ['11', 'Master Yi'],\n",
       " ['21', 'Miss Fortune'],\n",
       " ['62', 'Wukong'],\n",
       " ['82', 'Mordekaiser'],\n",
       " ['25', 'Morgana'],\n",
       " ['267', 'Nami'],\n",
       " ['75', 'Nasus'],\n",
       " ['111', 'Nautilus'],\n",
       " ['518', 'Neeko'],\n",
       " ['76', 'Nidalee'],\n",
       " ['56', 'Nocturne'],\n",
       " ['20', 'Nunu & Willump'],\n",
       " ['2', 'Olaf'],\n",
       " ['61', 'Orianna'],\n",
       " ['516', 'Ornn'],\n",
       " ['80', 'Pantheon'],\n",
       " ['78', 'Poppy'],\n",
       " ['555', 'Pyke'],\n",
       " ['246', 'Qiyana'],\n",
       " ['133', 'Quinn'],\n",
       " ['497', 'Rakan'],\n",
       " ['33', 'Rammus'],\n",
       " ['421', \"Rek'Sai\"],\n",
       " ['526', 'Rell'],\n",
       " ['58', 'Renekton'],\n",
       " ['107', 'Rengar'],\n",
       " ['92', 'Riven'],\n",
       " ['68', 'Rumble'],\n",
       " ['13', 'Ryze'],\n",
       " ['360', 'Samira'],\n",
       " ['113', 'Sejuani'],\n",
       " ['235', 'Senna'],\n",
       " ['147', 'Seraphine'],\n",
       " ['875', 'Sett'],\n",
       " ['35', 'Shaco'],\n",
       " ['98', 'Shen'],\n",
       " ['102', 'Shyvana'],\n",
       " ['27', 'Singed'],\n",
       " ['14', 'Sion'],\n",
       " ['15', 'Sivir'],\n",
       " ['72', 'Skarner'],\n",
       " ['37', 'Sona'],\n",
       " ['16', 'Soraka'],\n",
       " ['50', 'Swain'],\n",
       " ['517', 'Sylas'],\n",
       " ['134', 'Syndra'],\n",
       " ['223', 'Tahm Kench'],\n",
       " ['163', 'Taliyah'],\n",
       " ['91', 'Talon'],\n",
       " ['44', 'Taric'],\n",
       " ['17', 'Teemo'],\n",
       " ['412', 'Thresh'],\n",
       " ['18', 'Tristana'],\n",
       " ['48', 'Trundle'],\n",
       " ['23', 'Tryndamere'],\n",
       " ['4', 'Twisted Fate'],\n",
       " ['29', 'Twitch'],\n",
       " ['77', 'Udyr'],\n",
       " ['6', 'Urgot'],\n",
       " ['110', 'Varus'],\n",
       " ['67', 'Vayne'],\n",
       " ['45', 'Veigar'],\n",
       " ['161', \"Vel'Koz\"],\n",
       " ['711', 'Vex'],\n",
       " ['254', 'Vi'],\n",
       " ['234', 'Viego'],\n",
       " ['112', 'Viktor'],\n",
       " ['8', 'Vladimir'],\n",
       " ['106', 'Volibear'],\n",
       " ['19', 'Warwick'],\n",
       " ['498', 'Xayah'],\n",
       " ['101', 'Xerath'],\n",
       " ['5', 'Xin Zhao'],\n",
       " ['157', 'Yasuo'],\n",
       " ['777', 'Yone'],\n",
       " ['83', 'Yorick'],\n",
       " ['350', 'Yuumi'],\n",
       " ['154', 'Zac'],\n",
       " ['238', 'Zed'],\n",
       " ['115', 'Ziggs'],\n",
       " ['26', 'Zilean'],\n",
       " ['142', 'Zoe'],\n",
       " ['143', 'Zyra']]"
      ]
     },
     "execution_count": 94,
     "metadata": {},
     "output_type": "execute_result"
    }
   ],
   "source": [
    "champ_table = gen_champ_table()"
   ]
  },
  {
   "cell_type": "code",
   "execution_count": 111,
   "id": "4c975dc5",
   "metadata": {},
   "outputs": [],
   "source": [
    "# spark.createDataFrame(records, schema).show()"
   ]
  },
  {
   "cell_type": "markdown",
   "id": "2afa516c",
   "metadata": {},
   "source": [
    "# II. Building Recommender System"
   ]
  },
  {
   "cell_type": "markdown",
   "id": "4d4754bf",
   "metadata": {},
   "source": [
    "## A. Vectorizing Dataset"
   ]
  },
  {
   "cell_type": "code",
   "execution_count": 42,
   "id": "c202150f",
   "metadata": {},
   "outputs": [],
   "source": [
    "from sklearn.feature_extraction.text import CountVectorizer\n",
    "from scipy.linalg import svd"
   ]
  },
  {
   "cell_type": "code",
   "execution_count": 43,
   "id": "de5777dc",
   "metadata": {},
   "outputs": [],
   "source": [
    "cv = CountVectorizer()"
   ]
  },
  {
   "cell_type": "code",
   "execution_count": 75,
   "id": "84deab5b",
   "metadata": {},
   "outputs": [],
   "source": [
    "# x_train = my_dict.values()\n",
    "# x_train = [' '.join(row) for row in x_train]\n",
    "\n",
    "# df = pd.DataFrame(cv.fit_transform(x_train).toarray(), columns = cv.get_feature_names()\n",
    "df_vec = pd.crosstab(df.summId, df.champId)"
   ]
  },
  {
   "cell_type": "code",
   "execution_count": null,
   "id": "e183f8ce",
   "metadata": {
    "scrolled": true
   },
   "outputs": [],
   "source": [
    "#df.to_csv('vect_champ_data.csv')\n",
    "# import json\n",
    "\n",
    "# with open('chall_dict.json','w') as fp:\n",
    "#     json.dump(my_dict,fp)"
   ]
  },
  {
   "cell_type": "markdown",
   "id": "fc80ad33",
   "metadata": {},
   "source": [
    "## B. Applying SVD"
   ]
  },
  {
   "cell_type": "markdown",
   "id": "0e1ccfcf",
   "metadata": {},
   "source": [
    "### B1. Initialization"
   ]
  },
  {
   "cell_type": "code",
   "execution_count": 76,
   "id": "1a675700",
   "metadata": {},
   "outputs": [],
   "source": [
    "def svd_trans(df):\n",
    "    df_vec = pd.crosstab(df.summId, df.champId)\n",
    "    U, Sigma, VT = svd(df_vec)\n",
    "    VT_ = VT.copy()\n",
    "    VT = VT[:3,:]\n",
    "    VT = pd.DataFrame(VT)\n",
    "    return U, Sigma, VT, VT_"
   ]
  },
  {
   "cell_type": "markdown",
   "id": "e87f0bbc",
   "metadata": {},
   "source": [
    "### B2. Visualizing similarity in 3-dimensional space"
   ]
  },
  {
   "cell_type": "code",
   "execution_count": 63,
   "id": "3501d883",
   "metadata": {},
   "outputs": [],
   "source": [
    "U, Sigma, VT, VT_ = svd_trans(df_vec)"
   ]
  },
  {
   "cell_type": "code",
   "execution_count": null,
   "id": "36c29215",
   "metadata": {
    "scrolled": false
   },
   "outputs": [],
   "source": [
    "import matplotlib.pyplot as plt\n",
    "from mpl_toolkits.mplot3d import Axes3D\n",
    "%matplotlib inline\n",
    "plt.style.use('seaborn')\n",
    "\n",
    "fig = plt.figure(figsize=(20,16))\n",
    "ax = fig.gca(projection='3d')\n",
    "ax.scatter(U[:,0],U[:,1],U[:,2],c='k',s=150);\n",
    "ax.set_xlabel(\"D1\", fontsize=20, labelpad=20)\n",
    "ax.set_ylabel(\"D2\", fontsize=20, labelpad=20)\n",
    "ax.set_zlabel(\"D3\", fontsize=20, labelpad=20);\n",
    "\n",
    "lbls = df.index\n",
    "offset = 0.01\n",
    "for i, txt in enumerate(lbls):\n",
    "    if i not in [6,7]:\n",
    "        ax.text(U[i,0]+offset,U[i,1],U[i,2],txt, fontsize=20)\n",
    "    else:\n",
    "        ax.text(U[i,0]+offset,U[i,1],U[i,2]+5*offset,txt, fontsize=20)"
   ]
  },
  {
   "cell_type": "code",
   "execution_count": null,
   "id": "4a786bd8",
   "metadata": {
    "scrolled": false
   },
   "outputs": [],
   "source": [
    "fig = plt.figure(figsize=(20,16))\n",
    "ax = fig.gca(projection='3d')\n",
    "ax.scatter(VT_.T[:,0],VT_.T[:,1],VT_.T[:,2],c='b',s=150, label=\"Items\");\n",
    "ax.scatter(U[:,0],U[:,1],U[:,2],c='r',s=150, label=\"Users\");\n",
    "ax.set_xlabel(\"D1\", fontsize=20, labelpad=20)\n",
    "ax.set_ylabel(\"D2\", fontsize=20, labelpad=20)\n",
    "ax.set_zlabel(\"D3\", fontsize=20, labelpad=20);\n",
    "\n",
    "lbls = df.columns\n",
    "item_offset = 0.01\n",
    "for i, txt in enumerate(lbls):\n",
    "    if i not in [6,7]:\n",
    "        ax.text(VT_.T[i,0],VT_.T[i,1]+item_offset,VT_.T[i,2],txt, fontsize=20)\n",
    "    else:\n",
    "        ax.text(VT_.T[i,0],VT_.T[i,1]+item_offset,VT_.T[i,2]+5*item_offset,txt, fontsize=20)\n",
    "\n",
    "lbls = df.index\n",
    "offset = 0.01\n",
    "for i, txt in enumerate(lbls):\n",
    "    if i not in [6,7]:\n",
    "        ax.text(U[i,0],U[i,1]+offset,U[i,2],txt, fontsize=20)\n",
    "    else:\n",
    "        ax.text(U[i,0],U[i,1]+offset,U[i,2]+6*offset,txt, fontsize=20)\n",
    "ax.view_init(30,15)\n",
    "plt.legend(loc=\"upper left\", fontsize=30);"
   ]
  },
  {
   "cell_type": "markdown",
   "id": "8f49fb8e",
   "metadata": {},
   "source": [
    "## C. Evaluating similarity"
   ]
  },
  {
   "cell_type": "code",
   "execution_count": 89,
   "id": "c94188f2",
   "metadata": {
    "scrolled": true
   },
   "outputs": [],
   "source": [
    "def compare_champs(compare_champ, df, VT):\n",
    "    sim_champ = {}\n",
    "    for champ in cv.get_feature_names():\n",
    "        if champ != compare_champ:\n",
    "            t1 = VT.T[VT.T.index.str.startswith(compare_champ)].to_numpy()\n",
    "            t2 = VT.T[VT.T.index.str.startswith(champ)].to_numpy()\n",
    "            sim_champ[\"Champion %s & %s: \"%(compare_champ,champ)] = np.dot(t1[0],t2[0])\n",
    "    return sim_champ"
   ]
  },
  {
   "cell_type": "code",
   "execution_count": 138,
   "id": "793b7ae3",
   "metadata": {
    "scrolled": true
   },
   "outputs": [],
   "source": [
    "def compare_users(compare_user, df, U):\n",
    "    df_vec = pd.crosstab(df.summId, df.champId)\n",
    "    lst_users = df_vec.index\n",
    "    sim_player = {}\n",
    "    for user in lst_users:\n",
    "        if user != compare_user:\n",
    "            user_idx = df_vec.index.get_loc(user)\n",
    "            compare_idx = df_vec.index.get_loc(compare_user)\n",
    "            sim_player[\"User %s & %s: \"%(compare_user,user)] = np.dot(U[compare_idx],U[user_idx])\n",
    "    return sim_player"
   ]
  },
  {
   "cell_type": "code",
   "execution_count": null,
   "id": "c4a28d67",
   "metadata": {},
   "outputs": [],
   "source": [
    "#print(max(sim_player, key = sim_player.get),max(sim_player.values()))"
   ]
  },
  {
   "cell_type": "code",
   "execution_count": null,
   "id": "b58bbe1c",
   "metadata": {},
   "outputs": [],
   "source": [
    "#print(max(sim_champ, key = sim_champ.get),max(sim_champ.values()))"
   ]
  },
  {
   "cell_type": "code",
   "execution_count": 47,
   "id": "856b5fe7",
   "metadata": {},
   "outputs": [],
   "source": [
    "df = pd.read_csv('../data/final_data.csv').iloc[:,2:]"
   ]
  },
  {
   "cell_type": "code",
   "execution_count": 137,
   "id": "2c949fe1",
   "metadata": {},
   "outputs": [
    {
     "data": {
      "text/plain": [
       "Index(['-HeyTwZqvfwQrwAfR7pXZCIZu2g5uAnP_xdishsH0waKF-A',\n",
       "       '-ZToIdKib8TpMCZs6pAawH0970zFy4v9sadIl3qyYuEE6Cc',\n",
       "       '-d5YahFMxlTqI1A8VjiOrSgnj02Nbry5eajClqYcSU6Pn80X',\n",
       "       '-etPMsImiyI_skY7taENVBW2EmrfcmeFIqVWyOzuVGojo1RJl6RW2tr21Q',\n",
       "       '-fZYORfIVBUYHtLHdMW1xn_hQ8IBbu8ydpI9k94WyDKAdpc',\n",
       "       '-kGZpOoEA430aLjkol0SJfYkg-OJgiEmjftLs1Z8kCcCj4I',\n",
       "       '-mVjyEQHT9YBIPiJYi0Y1TpannMC0nAEGQp7lJNkrqLAKzM',\n",
       "       '-xeMtvJpZ4Fd8XXBDefnh4BHGVVNXoabLn4G4FSkQgImAOU',\n",
       "       '-zUS-SQEhvenl4ra2O0RVdZW36A238eIx5x-Ahz18mD3qEg',\n",
       "       '00bixxc18hAEeo_eEiCzoqYhL3Grd4-7j2DhctHQUP03x5k',\n",
       "       ...\n",
       "       'xP7IT9O2eAtg6jiadFTDb-VHCb5t2KMC1UL2NumlgSVo1zSNhDEKAWiu2g',\n",
       "       'xp5K6NuFYORW8osCGrIa71l1nDEMznQpP31dgJcuGkxeE0w',\n",
       "       'yAzduuTP7cI0vXhw-gLX-7K_eAwGaB_fWnaFawRJay7LclPB',\n",
       "       'yC_Lyz6COoSCmobhOG0ZsoOO6GntSZilQ_7qGsKvitr25Rw',\n",
       "       'yNztZqKbeiO3JpsY6clCqpGxuCdjDQ72-UNNsi2f8B2RXdU',\n",
       "       'ye0KtxysiDSMMVWPUZ8ewuHqbpMPKOeSLnH12dWNKczTCIE',\n",
       "       'yoQfDLXBv9eb7s-Mi5x1KQ5Jnk1SG-mfZ_Sf0bhUEk6H2rc',\n",
       "       'zDK4rP4Xjk3JzgFPsvpsb3SYdwDa_C49HvicrYlkU0clTeU',\n",
       "       'zGK-I9EwjpWdz6OLNynGg__t9Iqcz5UeHWRwK3qD3pDNoLCv',\n",
       "       'zetv0pqqII_l7tjBzOo7037ysPazatSdeMvqdOpEDH1vj-PrNVG9Q6n49g'],\n",
       "      dtype='object', name='summId', length=300)"
      ]
     },
     "execution_count": 137,
     "metadata": {},
     "output_type": "execute_result"
    }
   ],
   "source": [
    "# pd.DataFrame(U,index = df_vec.index)\n",
    "df_vec.index"
   ]
  },
  {
   "cell_type": "markdown",
   "id": "b205341f",
   "metadata": {},
   "source": [
    "# III. Recommending"
   ]
  },
  {
   "cell_type": "markdown",
   "id": "66d7d4b8",
   "metadata": {},
   "source": [
    "## A. Baseline recommender using KNN"
   ]
  },
  {
   "cell_type": "code",
   "execution_count": 21,
   "id": "6c7bc80a",
   "metadata": {
    "scrolled": true
   },
   "outputs": [
    {
     "data": {
      "text/plain": [
       "[['NA1_4142438955_200_UTILITY',\n",
       "  'ZoQWkA_DQZqEBHudNeqAp7tlWpB-pE0b3MMZr8hNOr3mlYc',\n",
       "  111],\n",
       " ['NA1_4142481448_200_JUNGLE',\n",
       "  'ZoQWkA_DQZqEBHudNeqAp7tlWpB-pE0b3MMZr8hNOr3mlYc',\n",
       "  163],\n",
       " ['NA1_4142385261_200_JUNGLE',\n",
       "  'ZoQWkA_DQZqEBHudNeqAp7tlWpB-pE0b3MMZr8hNOr3mlYc',\n",
       "  163],\n",
       " ['NA1_4141500783_200_TOP',\n",
       "  'ZoQWkA_DQZqEBHudNeqAp7tlWpB-pE0b3MMZr8hNOr3mlYc',\n",
       "  6],\n",
       " ['NA1_4141416889_200_BOTTOM',\n",
       "  'ZoQWkA_DQZqEBHudNeqAp7tlWpB-pE0b3MMZr8hNOr3mlYc',\n",
       "  202],\n",
       " ['NA1_4139814306_100_BOTTOM',\n",
       "  'ZoQWkA_DQZqEBHudNeqAp7tlWpB-pE0b3MMZr8hNOr3mlYc',\n",
       "  202],\n",
       " ['NA1_4138978542_200_MIDDLE',\n",
       "  'ZoQWkA_DQZqEBHudNeqAp7tlWpB-pE0b3MMZr8hNOr3mlYc',\n",
       "  38],\n",
       " ['NA1_4139022202_200_MIDDLE',\n",
       "  'ZoQWkA_DQZqEBHudNeqAp7tlWpB-pE0b3MMZr8hNOr3mlYc',\n",
       "  38],\n",
       " ['NA1_4138879578_100_MIDDLE',\n",
       "  'ZoQWkA_DQZqEBHudNeqAp7tlWpB-pE0b3MMZr8hNOr3mlYc',\n",
       "  38],\n",
       " ['NA1_4138874811_100_JUNGLE',\n",
       "  'ZoQWkA_DQZqEBHudNeqAp7tlWpB-pE0b3MMZr8hNOr3mlYc',\n",
       "  104],\n",
       " ['NA1_4138860365_200_MIDDLE',\n",
       "  'ZoQWkA_DQZqEBHudNeqAp7tlWpB-pE0b3MMZr8hNOr3mlYc',\n",
       "  136],\n",
       " ['NA1_4135881295_200_BOTTOM',\n",
       "  'ZoQWkA_DQZqEBHudNeqAp7tlWpB-pE0b3MMZr8hNOr3mlYc',\n",
       "  202],\n",
       " ['NA1_4135218943_200_BOTTOM',\n",
       "  'ZoQWkA_DQZqEBHudNeqAp7tlWpB-pE0b3MMZr8hNOr3mlYc',\n",
       "  202],\n",
       " ['NA1_4135250435_200_JUNGLE',\n",
       "  'ZoQWkA_DQZqEBHudNeqAp7tlWpB-pE0b3MMZr8hNOr3mlYc',\n",
       "  245],\n",
       " ['NA1_4135063234_100_MIDDLE',\n",
       "  'ZoQWkA_DQZqEBHudNeqAp7tlWpB-pE0b3MMZr8hNOr3mlYc',\n",
       "  31],\n",
       " ['NA1_4134742123_200_MIDDLE',\n",
       "  'ZoQWkA_DQZqEBHudNeqAp7tlWpB-pE0b3MMZr8hNOr3mlYc',\n",
       "  245],\n",
       " ['NA1_4134689100_100_MIDDLE',\n",
       "  'ZoQWkA_DQZqEBHudNeqAp7tlWpB-pE0b3MMZr8hNOr3mlYc',\n",
       "  142],\n",
       " ['NA1_4134646355_100_MIDDLE',\n",
       "  'ZoQWkA_DQZqEBHudNeqAp7tlWpB-pE0b3MMZr8hNOr3mlYc',\n",
       "  38],\n",
       " ['NA1_4132747145_100_JUNGLE',\n",
       "  'ZoQWkA_DQZqEBHudNeqAp7tlWpB-pE0b3MMZr8hNOr3mlYc',\n",
       "  234],\n",
       " ['NA1_4129185866_100_TOP',\n",
       "  'ZoQWkA_DQZqEBHudNeqAp7tlWpB-pE0b3MMZr8hNOr3mlYc',\n",
       "  6]]"
      ]
     },
     "execution_count": 21,
     "metadata": {},
     "output_type": "execute_result"
    }
   ],
   "source": [
    "me = watcher.summoner.by_name(rgn, 'broswitbros')\n",
    "my_pool = gen_matches(rgn, me['id'], queue = None, count = 20)"
   ]
  },
  {
   "cell_type": "code",
   "execution_count": 141,
   "id": "ea59e37b",
   "metadata": {
    "scrolled": true
   },
   "outputs": [],
   "source": [
    "my_df = pd.DataFrame(columns = ['gameId','summId','champId'])\n",
    "for row in my_pool:\n",
    "    my_df = my_df.append(pd.Series(row, index=my_df.columns), ignore_index = True)"
   ]
  },
  {
   "cell_type": "code",
   "execution_count": 142,
   "id": "186189d8",
   "metadata": {},
   "outputs": [],
   "source": [
    "my_df = df.append(my_df).iloc[:,:2]\n",
    "U, sigma, VT,_ = svd_trans(my_df)"
   ]
  },
  {
   "cell_type": "code",
   "execution_count": null,
   "id": "7c2a38a2",
   "metadata": {},
   "outputs": [],
   "source": []
  },
  {
   "cell_type": "code",
   "execution_count": 144,
   "id": "9a7b73a6",
   "metadata": {},
   "outputs": [
    {
     "name": "stdout",
     "output_type": "stream",
     "text": [
      "User ZoQWkA_DQZqEBHudNeqAp7tlWpB-pE0b3MMZr8hNOr3mlYc & Lc-Z7Wq3plXoiceJ8G9qn4YYME0k9FR7VF3NCPLQDZ8wJ3o:  3.469446951953614e-16\n"
     ]
    }
   ],
   "source": [
    "sim_player = compare_users(me['id'], my_df, U)\n",
    "# sim_champ = compare_champs('kassadin', my_df, VT)\n",
    "\n",
    "print(max(sim_player, key = sim_player.get),max(sim_player.values()))\n",
    "# print(max(sim_champ, key = sim_champ.get),max(sim_champ.values()))\n"
   ]
  },
  {
   "cell_type": "code",
   "execution_count": null,
   "id": "4dcacb73",
   "metadata": {},
   "outputs": [],
   "source": [
    "Counter(gen_champ_dict(gen_champ_ids(rgn, me['id'], queue = None)))"
   ]
  },
  {
   "cell_type": "code",
   "execution_count": null,
   "id": "39505301",
   "metadata": {},
   "outputs": [],
   "source": [
    "print(chall['entries'][153]['summonerName'], ': ', Counter(my_dict[chall['entries'][153]['summonerName']]))"
   ]
  },
  {
   "cell_type": "markdown",
   "id": "58ca189f",
   "metadata": {
    "scrolled": true
   },
   "source": [
    "## B. NCF - Neural Collaborative Filtering"
   ]
  },
  {
   "cell_type": "code",
   "execution_count": null,
   "id": "b68d6402",
   "metadata": {},
   "outputs": [],
   "source": [
    "df = pd.read_csv('vect_champ_data.csv')"
   ]
  },
  {
   "cell_type": "code",
   "execution_count": null,
   "id": "56b1f920",
   "metadata": {
    "scrolled": true
   },
   "outputs": [],
   "source": [
    "users = []\n",
    "champs = []\n",
    "for i in range(len(df)):\n",
    "    summ_row = df.iloc[i][1:]\n",
    "    count_lst = [(summ_row.index[idx],item) for idx,item in enumerate(summ_row) if item != 0]\n",
    "    nested_lists = [[champ]*count for champ, count in count_lst]\n",
    "    flat = [item for sublist in nested_lists for item in sublist]\n",
    "    users.extend([i]*len(flat))\n",
    "    champs.extend(flat)"
   ]
  },
  {
   "cell_type": "code",
   "execution_count": null,
   "id": "cda3b303",
   "metadata": {
    "scrolled": true
   },
   "outputs": [],
   "source": [
    "df_trans = pd.DataFrame()\n",
    "df_trans['summoner'], df_trans['champ'] = users, champs\n",
    "all_champs = df_trans['champ'].unique()\n",
    "df_trans['champ_id'] = df_trans['champ'].map(lambda x: np.where(all_champs == x)[0][0])"
   ]
  },
  {
   "cell_type": "code",
   "execution_count": null,
   "id": "c98ef564",
   "metadata": {
    "scrolled": true
   },
   "outputs": [],
   "source": [
    "champ_ids = np.array(range(len(all_champs)))\n",
    "num_negatives = 4\n",
    "summ_champ_set = set(zip(df_trans['summoner'], df_trans['champ_id']))\n",
    "s, c, l = [],[],[]\n",
    "\n",
    "for (u, i) in summ_champ_set:\n",
    "    s.append(u)\n",
    "    c.append(i)\n",
    "    l.append(1)\n",
    "    for _ in range(num_negatives):\n",
    "        neg_champ = np.random.choice(champ_ids)\n",
    "        while (u, neg_champ) in summ_champ_set:\n",
    "            neg_champ = np.random.choice(champ_ids)\n",
    "        s.append(u)\n",
    "        c.append(neg_champ)\n",
    "        l.append(0)\n",
    "\n",
    "    "
   ]
  },
  {
   "cell_type": "code",
   "execution_count": null,
   "id": "d4690b07",
   "metadata": {},
   "outputs": [],
   "source": [
    "df_adjust = pd.DataFrame()\n",
    "df_adjust['summoners'], df_adjust['champion'], df_adjust['labels'] = s,c,l\n",
    "x,y,z = torch.tensor(s),torch.tensor(c),torch.tensor(l)"
   ]
  },
  {
   "cell_type": "code",
   "execution_count": null,
   "id": "03a0c96d",
   "metadata": {},
   "outputs": [],
   "source": [
    "model = pl.LightningModule()"
   ]
  },
  {
   "cell_type": "code",
   "execution_count": null,
   "id": "d1c37b63",
   "metadata": {},
   "outputs": [],
   "source": [
    "num_summs = len(set(s))\n",
    "num_champs = len(set(c))\n",
    "\n",
    "model.summoner_embedding = nn.Embedding(num_embeddings = num_summs, embedding_dim=8)\n",
    "model.champion_embedding = nn.Embedding(num_embeddings = num_champs, embedding_dim=8)\n",
    "model.fc1 = nn.Linear(in_features=16, out_features=64)\n",
    "model.fc2 = nn.Linear(in_features=64, out_features=32)\n",
    "model.output = nn.Linear(in_features=32, out_features=1)"
   ]
  },
  {
   "cell_type": "code",
   "execution_count": null,
   "id": "82800dfb",
   "metadata": {},
   "outputs": [],
   "source": [
    "trainer = pl.Trainer(max_epochs=5, gpus=0, reload_dataloaders_every_epoch=True,\n",
    "                     progress_bar_refresh_rate=50, logger=False, checkpoint_callback=False)"
   ]
  },
  {
   "cell_type": "code",
   "execution_count": null,
   "id": "ea3687d3",
   "metadata": {},
   "outputs": [],
   "source": [
    "torch.cuda.is_available()\n",
    "torch.__version__"
   ]
  },
  {
   "cell_type": "code",
   "execution_count": null,
   "id": "2d93199c",
   "metadata": {},
   "outputs": [],
   "source": [
    "!pip install torch==1.10.1+cu113 torchvision==0.11.2+cu113 torchaudio===0.10.1+cu113 -f https://download.pytorch.org/whl/cu113/torch_stable.html"
   ]
  },
  {
   "cell_type": "code",
   "execution_count": null,
   "id": "ad98d92c",
   "metadata": {},
   "outputs": [],
   "source": []
  },
  {
   "cell_type": "code",
   "execution_count": null,
   "id": "d1d976fa",
   "metadata": {},
   "outputs": [],
   "source": []
  },
  {
   "cell_type": "code",
   "execution_count": null,
   "id": "c863c6bc",
   "metadata": {},
   "outputs": [],
   "source": []
  },
  {
   "cell_type": "code",
   "execution_count": null,
   "id": "6b5446b9",
   "metadata": {},
   "outputs": [],
   "source": []
  },
  {
   "cell_type": "code",
   "execution_count": null,
   "id": "b7097170",
   "metadata": {},
   "outputs": [],
   "source": []
  }
 ],
 "metadata": {
  "kernelspec": {
   "display_name": "Python 3",
   "language": "python",
   "name": "python3"
  },
  "language_info": {
   "codemirror_mode": {
    "name": "ipython",
    "version": 3
   },
   "file_extension": ".py",
   "mimetype": "text/x-python",
   "name": "python",
   "nbconvert_exporter": "python",
   "pygments_lexer": "ipython3",
   "version": "3.8.8"
  }
 },
 "nbformat": 4,
 "nbformat_minor": 5
}
